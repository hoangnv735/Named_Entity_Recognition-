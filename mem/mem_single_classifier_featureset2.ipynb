{
  "nbformat": 4,
  "nbformat_minor": 0,
  "metadata": {
    "colab": {
      "name": "mem-single-classifier-featureset2.ipynb",
      "provenance": [],
      "collapsed_sections": []
    },
    "kernelspec": {
      "name": "python3",
      "display_name": "Python 3"
    }
  },
  "cells": [
    {
      "cell_type": "code",
      "metadata": {
        "id": "5PaJ9kb9mZpB",
        "colab_type": "code",
        "outputId": "a5b40a05-afaf-4cfc-8711-8b9ce7eff5ca",
        "colab": {
          "base_uri": "https://localhost:8080/",
          "height": 129
        }
      },
      "source": [
        "from google.colab import drive\n",
        "drive.mount('/content/gdrive/')"
      ],
      "execution_count": 1,
      "outputs": [
        {
          "output_type": "stream",
          "text": [
            "Go to this URL in a browser: https://accounts.google.com/o/oauth2/auth?client_id=947318989803-6bn6qk8qdgf4n4g3pfee6491hc0brc4i.apps.googleusercontent.com&redirect_uri=urn%3aietf%3awg%3aoauth%3a2.0%3aoob&response_type=code&scope=email%20https%3a%2f%2fwww.googleapis.com%2fauth%2fdocs.test%20https%3a%2f%2fwww.googleapis.com%2fauth%2fdrive%20https%3a%2f%2fwww.googleapis.com%2fauth%2fdrive.photos.readonly%20https%3a%2f%2fwww.googleapis.com%2fauth%2fpeopleapi.readonly\n",
            "\n",
            "Enter your authorization code:\n",
            "··········\n",
            "Mounted at /content/gdrive/\n"
          ],
          "name": "stdout"
        }
      ]
    },
    {
      "cell_type": "code",
      "metadata": {
        "id": "3ELpRuLimgo3",
        "colab_type": "code",
        "colab": {}
      },
      "source": [
        "import os\n",
        "import numpy as np\n",
        "import codecs\n",
        "import pickle\n",
        "import nltk\n",
        "import pickle\n",
        "from nltk.classify.maxent import MaxentClassifier, BinaryMaxentFeatureEncoding\n",
        "from sklearn import metrics\n",
        "from sklearn.model_selection import train_test_split\n",
        "from sklearn.metrics import precision_recall_fscore_support as score\n",
        "from sklearn.metrics import multilabel_confusion_matrix\n",
        "from sklearn.metrics import classification_report"
      ],
      "execution_count": 0,
      "outputs": []
    },
    {
      "cell_type": "code",
      "metadata": {
        "id": "Qps0EYp9mio3",
        "colab_type": "code",
        "outputId": "49016f40-ef4c-42e6-ceee-7be46e3b1d7d",
        "colab": {
          "base_uri": "https://localhost:8080/",
          "height": 35
        }
      },
      "source": [
        "# Global variables\n",
        "rawdata_path = \"/content/gdrive/My Drive/ml/data/rawdata/\"\n",
        "data_path = \"/content/gdrive/My Drive/ml/data/data/\"\n",
        "model_path = \"/content/gdrive/My Drive/ml/model/\"\n",
        "labels = ['B-PER', 'I-PER', 'B-ORG', 'I-ORG', 'B-LOC', 'I-LOC', 'O']\n",
        "labels_dict = {labels[i]: i for i in range(len(labels))}\n",
        "eval_labels = ['B-PER', 'I-PER', 'B-LOC', 'I-LOC', 'B-ORG', 'I-ORG']\n",
        "print(labels_dict)"
      ],
      "execution_count": 3,
      "outputs": [
        {
          "output_type": "stream",
          "text": [
            "{'B-PER': 0, 'I-PER': 1, 'B-ORG': 2, 'I-ORG': 3, 'B-LOC': 4, 'I-LOC': 5, 'O': 6}\n"
          ],
          "name": "stdout"
        }
      ]
    },
    {
      "cell_type": "code",
      "metadata": {
        "id": "vjJ3GMSGmlcz",
        "colab_type": "code",
        "colab": {}
      },
      "source": [
        "def remove_xml_tags(filename):\n",
        "  ''' \n",
        "  Remove xml tag in file in data folder(raw data)\n",
        "  Args:\n",
        "    filename: The name of the data file in dataVLSP folder\n",
        "  Return:\n",
        "    File of the same name has removed xml tags in data folder\n",
        "  Example:\n",
        "    <editor>Vietlex team, 8-2016</editor>\n",
        "    -DOCSTART-\n",
        "    <s>\t\t\t\t\n",
        "    Đó\tP\tB-NP\tO\tO\n",
        "    là\tV\tB-VP\tO\tO\n",
        "    con\tNc\tB-NP\tO\tO\n",
        "  :converted into:\n",
        "    Đó\tP\tB-NP\tO\tO\n",
        "    là\tV\tB-VP\tO\tO\n",
        "    con\tNc\tB-NP\tO\tO\n",
        "\n",
        "    saved in dataVLSP folder(processed data)\n",
        "  '''\n",
        "  f1 = open(rawdata_path + filename, 'r',encoding='utf-8')\n",
        "  f2 = open(data_path + filename, 'w+',encoding='utf-8')\n",
        "  for line in f1:\n",
        "    line.strip()\n",
        "    if(('<title>' in line) or line.startswith('<e') or line.startswith('-D') or line.startswith('<s>')):\n",
        "      pass\n",
        "    elif(line.startswith('</')):\n",
        "      f2.write(line.replace(line,'\\n'))\n",
        "    else:\n",
        "      f2.write(line)\n",
        "  f1.close()\n",
        "  f2.close()"
      ],
      "execution_count": 0,
      "outputs": []
    },
    {
      "cell_type": "code",
      "metadata": {
        "id": "PTrlk6X4mnf6",
        "colab_type": "code",
        "colab": {}
      },
      "source": [
        "def clean_data(path):\n",
        "  ''' \n",
        "  Remove xml tags of all files in the dataVLSP folder\n",
        "  Processed data saved in data\n",
        "  '''\n",
        "  list_files = os.listdir(path)\n",
        "  for file in list_files:\n",
        "    remove_xml_tags(file)"
      ],
      "execution_count": 0,
      "outputs": []
    },
    {
      "cell_type": "code",
      "metadata": {
        "id": "tZPIaCVen4_a",
        "colab_type": "code",
        "colab": {}
      },
      "source": [
        "def prepare_data(path):\n",
        "    ''' Create training data and testing data\n",
        "        Format of data: CoNLL\n",
        "\n",
        "        Args:\n",
        "        path: path of data folder\n",
        "        scale: test size\n",
        "        index_attri: Represents the number of attributes and the associated attribute type\n",
        "            index_attri == 1 : The number of attributes = 1 - only ner label. ex: [('Huế', 'B_LOC'), ('là', 'O'), ('thành_phố', 'O'), ('đẹp', 'O')]\n",
        "            index_attri == 2.1 : The number of attributes = 2(pos-tagging label, ner label). ex: [('Đó', 'P', 'O'), ('là', 'V',  'O'), ('con', 'Nc', 'O'), ('đường', 'N', , 'O')]\n",
        "            index_attri = 2.2 : The number of attributes = 2(chunking label, ner label). ex: [('Đó', 'B-NP', 'O'), ('là', 'B-VP', 'O'), ('con', 'B-NP', 'O'), ('đường', 'B-NP', 'O')]\n",
        "            index_attri = 3 : The number of attributes = 3(pos-tagging label,chunking, ner label). ex: [('Đó', 'P', 'B-NP', 'O'), ('là', 'V', 'B-VP', 'O'), ('con', 'Nc', 'B-NP', 'O'), ('đường', 'N', 'B-NP', 'O')]\n",
        "            if index_attri not in {1,2.1,2,2,3} index_attri = 2.1\n",
        "        Return:\n",
        "        train_sents, test_sents\n",
        "        \n",
        "        Example of format data:\n",
        "        [[('Đó', 'P', 'B-NP', 'O'), ('là', 'V', 'B-VP', 'O'), ('con', 'Nc', 'B-NP', 'O'), ('đường', 'N', 'B-NP', 'O')],\n",
        "        [('Đó', 'P', 'B-NP', 'O'), ('là', 'V', 'B-VP', 'O'), ('con', 'Nc', 'B-NP', 'O'), ('đường', 'N', 'B-NP', 'O')],\n",
        "    '''    \n",
        "    list_files = os.listdir(path)\n",
        "    all_data = []\n",
        "    ''' Convert data format to CoNll '''\n",
        "    #training data\n",
        "    c = 0;\n",
        "    pos_tag = []\n",
        "    chunk_tag = []\n",
        "    ne_tag = []\n",
        "    for file in list_files:\n",
        "        with codecs.open(path + file,'r',encoding='utf8') as f:\n",
        "            sentence = []\n",
        "            remove = False\n",
        "            for line in f:\n",
        "                line = line.split()\n",
        "                if len(line) > 3:\n",
        "                    #label_set.append(line[3])\n",
        "                    if line[3] not in labels:\n",
        "                        remove = True\n",
        "                    else:\n",
        "                        pos_tag.append(line[1])\n",
        "                        chunk_tag.append(line[2])\n",
        "                    sentence.append((line[0],line[1],line[2],line[3]))\n",
        "                else:\n",
        "                    if len(sentence) > 0:\n",
        "                        if remove == False:                            \n",
        "                            all_data.append(sentence)\n",
        "                        else:\n",
        "                            remove = False\n",
        "                        sentence = []\n",
        "            f.close()\n",
        "\n",
        "    pos_tag = set(pos_tag)\n",
        "    chunk_tag = set(chunk_tag)\n",
        "    return  all_data, pos_tag, chunk_tag"
      ],
      "execution_count": 0,
      "outputs": []
    },
    {
      "cell_type": "code",
      "metadata": {
        "id": "UwuSfyrQoF5-",
        "colab_type": "code",
        "colab": {}
      },
      "source": [
        "def shape_feature(word):\n",
        "    is_lower            = 'is_lower'\n",
        "    is_capital          = 'is_capital' \n",
        "    is_title            = 'is_title' \n",
        "    is_mix              = 'is_mix' \n",
        "    is_capital_period   = 'is_capital_period' \n",
        "    is_digit            = 'is_digit' \n",
        "    end_digit           = 'end_digit' \n",
        "    has_hyphen          = 'has_hyphen' \n",
        "    is_code             = 'is_code' \n",
        "    num_syllabus        = 'num_syllabus'\n",
        "    is_name             = 'is_name' \n",
        "\n",
        "    check_code = False\n",
        "    for char in word:\n",
        "        if char.isdigit():\n",
        "            check_code = True\n",
        "            break;\n",
        "\n",
        "    ft = {\n",
        "        'bias'                : 1,\n",
        "        is_lower            : word.islower(),\n",
        "        is_capital          : word.isupper(),\n",
        "        is_title            : word.istitle(),\n",
        "        is_mix              : not(word.islower() and word.isupper()),\n",
        "        is_capital_period   : (('.' in word) and word[0].isupper()),\n",
        "        is_digit            : word.isdigit(),\n",
        "        end_digit           : word[-1].isdigit(),\n",
        "        has_hyphen          : ('-' in word),\n",
        "        is_code             : check_code,\n",
        "        num_syllabus        : (word.count('_') + 1),\n",
        "        is_name             : word[0].isupper()\n",
        "    }   \n",
        "    return ft\n",
        "\n",
        "def word_feature(sent, i, pre_state, pre_pre_state, sent_re_ft):\n",
        "    word = sent[i][0]\n",
        "    ft = dict()\n",
        "    ### basic feature \n",
        "    # current word\n",
        "    ft['w0'] = word\n",
        "    # previous entity tag\n",
        "    ft['s-1'] = pre_state\n",
        "    ft['s-2'] = pre_pre_state\n",
        "    ### basic shape feature\n",
        "    ft.update(shape_feature(word))\n",
        "    ### basic joint feature\n",
        "    if i > 0:\n",
        "        ft['w-1'] = sent[i-1][0]\n",
        "    else:\n",
        "        ft['w-1'] = 'BOS'\n",
        "    if i > 1:\n",
        "        ft['w-2'] = sent[i-2][0]\n",
        "    else:\n",
        "        ft['w-2'] = 'BOS'\n",
        "    if i < len(sent)-1:\n",
        "        ft['w+1'] = sent[i+1][0]\n",
        "    else:\n",
        "        ft['w+1'] = 'EOS'\n",
        "    if i < len(sent)-2:\n",
        "        ft['w+2'] = sent[i+2][0]\n",
        "    else:\n",
        "        ft['w+2'] = 'EOS'\n",
        "    ### regular expression type\n",
        "    ft['r0'] = sent_re_ft[i]\n",
        "    if i > 0:\n",
        "        ft['r-1'] = sent_re_ft[i-1]\n",
        "    else:\n",
        "        ft['r-1'] = 'BOS'\n",
        "    if i < len(sent)-1:\n",
        "        ft['r+1'] = sent_re_ft[i+1]\n",
        "    else:        \n",
        "        ft['r+1'] = 'EOS'\n",
        "    if i > 1:\n",
        "        ft['r-2'] = sent_re_ft[i-2]\n",
        "    else:\n",
        "        ft['r-2'] = 'BOS'\n",
        "    if i < len(sent)-2:\n",
        "        ft['r+2'] = sent_re_ft[i+2]\n",
        "    else:\n",
        "        ft['r+2'] = 'EOS'\n",
        "    return ft\n",
        "re_adm_div      = ['ấp', 'buôn', 'bản', 'huyện', 'làng', 'miền', 'nước', \n",
        "                   'phường', 'quận', 'tỉnh', 'thành_phố', 'thị_trấn', 'thị_xã', \n",
        "                   'thôn', 'TT', 'TP', 'TX', 'TT.', 'TP.', 'TX.', 'xứ', 'xã', \n",
        "                   'xóm']\n",
        "re_org          = ['báo', 'bệnh_viện', 'bệnh_xá', 'công_ty', 'công_ti', 'đài', 'đảng', 'đoàn', 'hội', 'hợp_tác_xã', 'khách_sạn', 'nhà_máy', 'nhà_xuất_bản', 'ngân_hàng', 'quỹ', 'tạp_chí', 'tập đoàn', 'thông_tấn_xã', 'tờ', 'trạm_xá', 'xí_nghiệp','ủy_ban']\n",
        "re_school       = ['mẫu_giáo', 'tiểu_học', 'trung_học', 'trung_học_cơ_sở', \n",
        "                   'trung_học_phổ_thông', 'cao_đẳng', 'trung_cấp', \n",
        "                   'trung_cấp_nghề', 'đại_học']\n",
        "re_street       = ['đại_lộ', 'đường', 'hẻm', 'ngách', 'ngõ', 'nhà', 'phố', 'quốc_lộ']\n",
        "re_place        = ['ao', 'am', 'bến', 'bến_cảng', 'bến_phà','biển', 'cảng', \n",
        "                   'cầu', 'công_viên', 'chợ', 'chùa', 'dãy', 'đảo', 'đầm', 'đèo', \n",
        "                   'đền', 'đình', 'đồi', 'động', 'đồng_bằng', 'gềnh', 'gò', 'khu', 'hòn', 'hồ', \n",
        "                   'lăng', 'miếu', 'miền', 'nhà_ga', 'núi', 'phà', 'quần_đảo', \n",
        "                   'sân_bay', 'sông', 'suối', 'vùng']\n",
        "re_office       = ['ban', 'bộ', 'chi_cục', 'cục', 'hạt', 'sở']\n",
        "re_army         = ['binh_đoàn', 'đại_đội', 'đặc_khu', 'đơn_vị', 'lữ_đoàn', 'quân_đoàn', 'quân_đội', 'quân_khu','sư_đoàn', 'tiểu_đội', 'tiểu_đoàn', 'trung_đội']\n",
        "\n",
        "def re_word(word):\n",
        "    \"\"\"\n",
        "        Return a dict of (regexp Name, regexp Value) of a word\n",
        "        :type word: string\n",
        "        :param word: a word in sentence\n",
        "    \"\"\"\n",
        "\n",
        "    check_code = False\n",
        "    for char in word:\n",
        "        if char.isdigit():\n",
        "            check_code = True\n",
        "            break\n",
        "\n",
        "    re_dict = dict()\n",
        "    re_dict['org'] = word.lower() in re_org\n",
        "    re_dict['name'] = word[0].isupper()\n",
        "    re_dict['capital'] = word.isupper()\n",
        "    re_dict['adm_div'] = word.lower() in re_adm_div\n",
        "    re_dict['is_school'] = word.lower() == 'trường'\n",
        "    re_dict['school'] = word.lower() in re_school\n",
        "    re_dict['street'] = word.lower() in re_street\n",
        "    re_dict['digit'] = word.isdigit()\n",
        "    re_dict['code'] = check_code\n",
        "    re_dict['place'] =  word in re_place\n",
        "    re_dict['office'] = word in re_office\n",
        "    re_dict['army'] = word in re_army\n",
        "    return re_dict \n",
        "\n",
        "re_type_name = [ \n",
        "    ('ofice_name_admdiv_name', ['office', 'name', 'adm_div', 'name']),\n",
        "    ('school_type_name_name'     , ['is_school', 'school', 'name', 'name']),\n",
        "    ('school_capital_name_name'  , ['is_school', 'capital', 'name', 'name']),\n",
        "    ('org_cap_name_name'         , ['org', 'capital', 'name', 'name']),\n",
        "    ('org_adm_div'          , ['capital', 'adm_div', 'name']),\n",
        "    ('school_type_name'     , ['is_school', 'school', 'name']),\n",
        "    ('school_capital_name'  , ['is_school', 'capital', 'name']),\n",
        "    ('org_cap_name'         , ['org', 'capital', 'name']),\n",
        "    ('place_name_name'           , ['place', 'name', 'name']),\n",
        "    ('place_name'           , ['place', 'name']),\n",
        "    ('org_name'                  , ['org', 'name', 'name']),\n",
        "    ('school_name_name'          , ['school', 'name', 'name']),\n",
        "    ('office_name_name'               , ['office', 'name', 'name']),\n",
        "    ('street_name_name'          , ['street', 'name', 'name']),\n",
        "    ('org'                  , ['org', 'name']),\n",
        "    ('school_name'          , ['school', 'name']),\n",
        "    ('adm_div'              , ['adm_div', 'name']),\n",
        "    ('office_name'               , ['office', 'name']),\n",
        "    ('street_name'          , ['street', 'name']),\n",
        "    ('street_digit'         , ['street', 'digit']),\n",
        "    ('street_code'          , ['street', 'code']),\n",
        "    ('army_name'            , ['army', 'code']),\n",
        "    ('army_name'            , ['army', 'digit']),\n",
        "    ('army_name'            , ['army', 'name'])\n",
        "]\n",
        "\n",
        "def sent_re_feature(sent):\n",
        "    l = len(sent)\n",
        "    sent_re_ft = ['NA'] * l\n",
        "    re_dict_word = [re_word(word[0]) for word in sent]\n",
        "    for type_name in re_type_name:\n",
        "        tl = len(type_name[1])\n",
        "        for i in range(l):\n",
        "            if (i + tl <= l):\n",
        "                if (set(['NA']) == set([sent_re_ft[i+j] for j in range(tl)])) and (set([True]) == set([re_dict_word[i+ll][type_name[1][ll]] for ll in range(tl)])):\n",
        "                    for k in range(tl):\n",
        "                        sent_re_ft[i+k] = type_name[0]\n",
        "    return sent_re_ft\n",
        "\n",
        "def sent_feature_train(sent):\n",
        "    sent_ft_train = list()\n",
        "    sent_re_ft = sent_re_feature(sent)\n",
        "    for i in range(len(sent)):\n",
        "        if i < 1:\n",
        "            sent_ft_train.append((word_feature(sent, i, 'BOS', 'BOS', sent_re_ft),\n",
        "                                  labels_dict[sent[i][3]]))\n",
        "        elif i < 2:\n",
        "            sent_ft_train.append((word_feature(sent, i, sent[i-1][3], 'BOS', sent_re_ft),\n",
        "                                  labels_dict[sent[i][3]]))\n",
        "        else:\n",
        "            sent_ft_train.append((word_feature(sent, i, sent[i-1][3], sent[i-2][3], sent_re_ft),\n",
        "                                  labels_dict[sent[i][3]]))    \n",
        "    return sent_ft_train          "
      ],
      "execution_count": 0,
      "outputs": []
    },
    {
      "cell_type": "code",
      "metadata": {
        "id": "8XJnunBsoQIz",
        "colab_type": "code",
        "colab": {}
      },
      "source": [
        "def sent_feature_test(sent, pre_state, pre_pre_state):\n",
        "    sent_ft_test = list()\n",
        "    sent_re_ft = sent_re_feature(sent)\n",
        "    for i in range(len(sent)):\n",
        "        sent_ft_test.append(word_feature(sent, i, pre_state, pre_pre_state, sent_re_ft))    \n",
        "    return sent_ft_test   "
      ],
      "execution_count": 0,
      "outputs": []
    },
    {
      "cell_type": "code",
      "metadata": {
        "id": "u8BkHsYboWES",
        "colab_type": "code",
        "colab": {}
      },
      "source": [
        "def viterbi_decoder(model, sent):\n",
        "    sent_re_ft = sent_re_feature(sent)\n",
        "    alpha = [([0] * len(labels)) for i in range(len(sent))]\n",
        "    trace = np.full(shape=(len(sent), len(labels)), fill_value=-1)\n",
        "\n",
        "    # start probability\n",
        "    pdist = model.prob_classify(word_feature(sent, 0, 'BOS', 'BOS', sent_re_ft))    \n",
        "    alpha[0] = [pdist.prob(l) for l in labels]\n",
        "    \n",
        "    for i in range(1, len(sent)):\n",
        "        alpha[i] = [0] * len(labels)\n",
        "        for j in range(len(labels)):\n",
        "            pre_state = labels[j];\n",
        "            pre_pre_state = 'BOS'\n",
        "            if i > 1:\n",
        "                pre_pre_state = labels[trace[i-1][j]];\n",
        "            feature = word_feature(sent, i, pre_state, pre_pre_state, sent_re_ft)\n",
        "            pdist = model.prob_classify(feature)                \n",
        "            posterior = [pdist.prob(l) for l in labels]\n",
        "            for k in range(len(labels)):\n",
        "                if alpha[i][k] < (posterior[k] * alpha[i-1][j]):\n",
        "                    alpha[i][k] = posterior[k] * alpha[i-1][j]\n",
        "                    trace[i][k] = j\n",
        "    m = alpha[-1][0]\n",
        "    idx = 0\n",
        "    for i in range(1, len(alpha[-1])):\n",
        "        if (alpha[-1][i] > m):\n",
        "            m = alpha[-1][i]\n",
        "            idx = i;\n",
        "    predict = list()\n",
        "    for i in range(len(sent)-1, -1, -1):\n",
        "        predict.append(labels[idx])\n",
        "        idx = trace[i][idx]\n",
        "    # print(alpha)\n",
        "    return reversed(predict)\n",
        "\n",
        "def predict_sent(model, sent):\n",
        "    y_test_sent = [sent[i][3] for i in range(len(sent))]   \n",
        "    y_pred_sent = viterbi_decoder(model, sent)\n",
        "    return y_test_sent, y_pred_sent\n",
        "\n",
        "def predict(model, sents):\n",
        "    y_test = []\n",
        "    y_pred = []\n",
        "    for sent in sents:\n",
        "        test, pred = predict_sent(model, sent)\n",
        "        y_test.extend(test)\n",
        "        y_pred.extend(pred)\n",
        "    return y_test, y_pred            "
      ],
      "execution_count": 0,
      "outputs": []
    },
    {
      "cell_type": "code",
      "metadata": {
        "id": "LqIUg9aJocbp",
        "colab_type": "code",
        "outputId": "903dcc26-044f-4164-b746-7c39d9b8ad67",
        "colab": {
          "base_uri": "https://localhost:8080/",
          "height": 54
        }
      },
      "source": [
        "all_data, pos_tag, chunk_tag = prepare_data(data_path)\n",
        "train_sents, test_sents = train_test_split(all_data, test_size = 0.15, random_state=42)\n",
        "print(\"train_sents\", len(train_sents))\n",
        "print(\"test_sents\", len(test_sents))"
      ],
      "execution_count": 10,
      "outputs": [
        {
          "output_type": "stream",
          "text": [
            "train_sents 14087\n",
            "test_sents 2486\n"
          ],
          "name": "stdout"
        }
      ]
    },
    {
      "cell_type": "code",
      "metadata": {
        "id": "UrNuu7Y7ofvg",
        "colab_type": "code",
        "outputId": "72e29a7d-b767-4161-f40c-290737763d1c",
        "colab": {
          "base_uri": "https://localhost:8080/",
          "height": 74
        }
      },
      "source": [
        "train_data = []\n",
        "for sent in train_sents:\n",
        "    for feature, label in sent_feature_train(sent):\n",
        "        train_data.append((feature, labels[label]))     \n",
        "\n",
        "print('train_data length', len(train_data))\n",
        "print(train_data[0])"
      ],
      "execution_count": 11,
      "outputs": [
        {
          "output_type": "stream",
          "text": [
            "train_data length 305800\n",
            "({'w0': 'Ngoài', 's-1': 'BOS', 's-2': 'BOS', 'bias': 1, 'is_lower': False, 'is_capital': False, 'is_title': True, 'is_mix': True, 'is_capital_period': False, 'is_digit': False, 'end_digit': False, 'has_hyphen': False, 'is_code': False, 'num_syllabus': 1, 'is_name': True, 'w-1': 'BOS', 'w-2': 'BOS', 'w+1': 'một_số', 'w+2': 'nhỏ', 'r0': 'NA', 'r-1': 'BOS', 'r+1': 'NA', 'r-2': 'BOS', 'r+2': 'NA'}, 'O')\n"
          ],
          "name": "stdout"
        }
      ]
    },
    {
      "cell_type": "code",
      "metadata": {
        "id": "z_C3bqmy1lDj",
        "colab_type": "code",
        "colab": {
          "base_uri": "https://localhost:8080/",
          "height": 313
        },
        "outputId": "59bad48d-ce04-474e-c1fd-3d2077ff86fe"
      },
      "source": [
        "%%time \n",
        "max_iter = 10\n",
        "encoding = BinaryMaxentFeatureEncoding.train(train_data, count_cutoff=3, labels = labels, alwayson_features=True)\n",
        "model = MaxentClassifier.train(train_data, algorithm = 'iis', trace=3, encoding=encoding, max_iter=max_iter)\n",
        "# save model\n",
        "pickle.dump(model, open(model_path + \"mem-single-classifier-featureset2-binaryfeature-maxiter10.model\", \"wb\"))"
      ],
      "execution_count": 12,
      "outputs": [
        {
          "output_type": "stream",
          "text": [
            "  ==> Training (10 iterations)\n",
            "\n",
            "      Iteration    Log Likelihood    Accuracy\n",
            "      ---------------------------------------\n",
            "             1          -1.94591        0.937\n",
            "             2          -0.10393        0.937\n",
            "             3          -0.09984        0.937\n",
            "             4          -0.09194        0.938\n",
            "             5          -0.08306        0.945\n",
            "             6          -0.07500        0.953\n",
            "             7          -0.06811        0.960\n",
            "             8          -0.06233        0.967\n",
            "             9          -0.05748        0.973\n",
            "         Final          -0.05338        0.977\n",
            "CPU times: user 51min 19s, sys: 5.1 s, total: 51min 24s\n",
            "Wall time: 51min 32s\n"
          ],
          "name": "stdout"
        }
      ]
    },
    {
      "cell_type": "code",
      "metadata": {
        "id": "xlKQncjI0dgX",
        "colab_type": "code",
        "colab": {
          "base_uri": "https://localhost:8080/",
          "height": 202
        },
        "outputId": "48381eff-8167-4238-c026-e19e046327f8"
      },
      "source": [
        "%%time\n",
        "# test model\n",
        "test_model = pickle.load(open(model_path + \"mem-single-classifier-featureset2-binaryfeature-maxiter10.model\", \"rb\"))\n",
        "y_test, y_pred = predict(test_model, test_sents)\n",
        "precision, recall, fscore, support = score(y_test, y_pred, labels=eval_labels)\n",
        "print('labels:    {}'.format(eval_labels))\n",
        "print('precision: {}'.format([str(round(p*100,2)) + '%' for p in precision]))\n",
        "print('recall:    {}'.format([str(round(r*100,2)) + '%' for r in recall]))\n",
        "print('fscore:    {}'.format([str(round(f*100,2)) + '%' for f in fscore]))\n",
        "print('support:   {}'.format(support))\n",
        "total_precision = metrics.precision_score(y_test, y_pred, average='weighted', labels=eval_labels)\n",
        "total_recall = metrics.recall_score(y_test, y_pred, average='weighted', labels=eval_labels)\n",
        "total_fscore = metrics.f1_score(y_test, y_pred, average='weighted', labels=eval_labels)\n",
        "print('total precision (weighted): {}'.format(str(round(total_precision*100,2)) + '%'))\n",
        "print('total recall (weighted): {}'.format(str(round(total_recall*100,2)) + '%'))\n",
        "print('total fscore (weighted): {}'.format(str(round(total_fscore*100,2)) + '%'))"
      ],
      "execution_count": 15,
      "outputs": [
        {
          "output_type": "stream",
          "text": [
            "labels:    ['B-PER', 'I-PER', 'B-LOC', 'I-LOC', 'B-ORG', 'I-ORG']\n",
            "precision: ['91.25%', '97.34%', '86.93%', '93.5%', '82.22%', '82.8%']\n",
            "recall:    ['64.14%', '76.43%', '35.21%', '43.09%', '22.42%', '26.46%']\n",
            "fscore:    ['75.33%', '85.62%', '50.12%', '58.99%', '35.24%', '40.1%']\n",
            "support:   [1057  526  869  434  165  291]\n",
            "total precision (weighted): 90.2%\n",
            "total recall (weighted): 50.48%\n",
            "total fscore (weighted): 63.23%\n",
            "CPU times: user 1min 20s, sys: 27 ms, total: 1min 20s\n",
            "Wall time: 1min 20s\n"
          ],
          "name": "stdout"
        }
      ]
    },
    {
      "cell_type": "code",
      "metadata": {
        "id": "N5GkhEUILVqU",
        "colab_type": "code",
        "colab": {
          "base_uri": "https://localhost:8080/",
          "height": 202
        },
        "outputId": "8bab4ddb-5df3-479d-d52d-15a1b557e13d"
      },
      "source": [
        "test_model.show_most_informative_features()"
      ],
      "execution_count": 16,
      "outputs": [
        {
          "output_type": "stream",
          "text": [
            "  -3.565 s-1=='O' and label is 'I-PER'\n",
            "  -3.310 s-1=='O' and label is 'I-ORG'\n",
            "  -3.138 is_name==False and label is 'B-PER'\n",
            "  -3.072 is_lower==True and label is 'B-PER'\n",
            "  -2.842 s-1=='O' and label is 'I-LOC'\n",
            "  -2.768 s-1=='B-PER' and label is 'B-PER'\n",
            "  -2.453 w0=='VN' and label is 'O'\n",
            "  -2.255 is_title==False and label is 'B-PER'\n",
            "  -2.188 w-1=='Nguyễn' and label is 'O'\n",
            "   2.184 w0=='sư' and label is 'B-ORG'\n"
          ],
          "name": "stdout"
        }
      ]
    },
    {
      "cell_type": "code",
      "metadata": {
        "id": "B5znZcPvMZow",
        "colab_type": "code",
        "colab": {
          "base_uri": "https://localhost:8080/",
          "height": 1000
        },
        "outputId": "1260a445-195b-4fb3-b4de-5b9c04a7845d"
      },
      "source": [
        "%%time \n",
        "max_iter = 50\n",
        "encoding = BinaryMaxentFeatureEncoding.train(train_data, count_cutoff=3, labels = labels, alwayson_features=True)\n",
        "model = MaxentClassifier.train(train_data, algorithm = 'iis', trace=3, encoding=encoding, max_iter=max_iter)\n",
        "# save model\n",
        "pickle.dump(model, open(model_path + \"mem-single-classifier-featureset2-binaryfeature-maxiter50.model\", \"wb\"))"
      ],
      "execution_count": 18,
      "outputs": [
        {
          "output_type": "stream",
          "text": [
            "  ==> Training (50 iterations)\n",
            "\n",
            "      Iteration    Log Likelihood    Accuracy\n",
            "      ---------------------------------------\n",
            "             1          -1.94591        0.937\n",
            "             2          -0.10393        0.937\n",
            "             3          -0.09984        0.937\n",
            "             4          -0.09194        0.938\n",
            "             5          -0.08306        0.945\n",
            "             6          -0.07500        0.953\n",
            "             7          -0.06811        0.960\n",
            "             8          -0.06233        0.967\n",
            "             9          -0.05748        0.973\n",
            "            10          -0.05338        0.977\n",
            "            11          -0.04990        0.980\n",
            "            12          -0.04691        0.982\n",
            "            13          -0.04433        0.984\n",
            "            14          -0.04208        0.985\n",
            "            15          -0.04010        0.986\n",
            "            16          -0.03835        0.987\n",
            "            17          -0.03679        0.988\n",
            "            18          -0.03539        0.989\n",
            "            19          -0.03413        0.989\n",
            "            20          -0.03299        0.990\n",
            "            21          -0.03195        0.990\n",
            "            22          -0.03100        0.991\n",
            "            23          -0.03013        0.991\n",
            "            24          -0.02932        0.991\n",
            "            25          -0.02857        0.991\n",
            "            26          -0.02788        0.992\n",
            "            27          -0.02723        0.992\n",
            "            28          -0.02662        0.992\n",
            "            29          -0.02606        0.992\n",
            "            30          -0.02553        0.993\n",
            "            31          -0.02502        0.993\n",
            "            32          -0.02455        0.993\n",
            "            33          -0.02410        0.993\n",
            "            34          -0.02368        0.993\n",
            "            35          -0.02327        0.993\n",
            "            36          -0.02289        0.993\n",
            "            37          -0.02253        0.994\n",
            "            38          -0.02218        0.994\n",
            "            39          -0.02184        0.994\n",
            "            40          -0.02153        0.994\n",
            "            41          -0.02122        0.994\n",
            "            42          -0.02093        0.994\n",
            "            43          -0.02065        0.994\n",
            "            44          -0.02038        0.994\n",
            "            45          -0.02012        0.994\n",
            "            46          -0.01987        0.994\n",
            "            47          -0.01963        0.994\n",
            "            48          -0.01940        0.994\n",
            "            49          -0.01917        0.995\n",
            "         Final          -0.01896        0.995\n",
            "CPU times: user 4h 34min 27s, sys: 43.5 s, total: 4h 35min 11s\n",
            "Wall time: 4h 35min 57s\n"
          ],
          "name": "stdout"
        }
      ]
    },
    {
      "cell_type": "code",
      "metadata": {
        "id": "Ot892ACEMdRX",
        "colab_type": "code",
        "colab": {
          "base_uri": "https://localhost:8080/",
          "height": 202
        },
        "outputId": "9af70743-2cec-43fb-cfe5-3a6b697a86de"
      },
      "source": [
        "%%time\n",
        "# test model\n",
        "test_model = pickle.load(open(model_path + \"mem-single-classifier-featureset2-binaryfeature-maxiter50.model\", \"rb\"))\n",
        "y_test, y_pred = predict(test_model, test_sents)\n",
        "precision, recall, fscore, support = score(y_test, y_pred, labels=eval_labels)\n",
        "print('labels:    {}'.format(eval_labels))\n",
        "print('precision: {}'.format([str(round(p*100,2)) + '%' for p in precision]))\n",
        "print('recall:    {}'.format([str(round(r*100,2)) + '%' for r in recall]))\n",
        "print('fscore:    {}'.format([str(round(f*100,2)) + '%' for f in fscore]))\n",
        "print('support:   {}'.format(support))\n",
        "total_precision = metrics.precision_score(y_test, y_pred, average='weighted', labels=eval_labels)\n",
        "total_recall = metrics.recall_score(y_test, y_pred, average='weighted', labels=eval_labels)\n",
        "total_fscore = metrics.f1_score(y_test, y_pred, average='weighted', labels=eval_labels)\n",
        "print('total precision (weighted): {}'.format(str(round(total_precision*100,2)) + '%'))\n",
        "print('total recall (weighted): {}'.format(str(round(total_recall*100,2)) + '%'))\n",
        "print('total fscore (weighted): {}'.format(str(round(total_fscore*100,2)) + '%'))"
      ],
      "execution_count": 20,
      "outputs": [
        {
          "output_type": "stream",
          "text": [
            "labels:    ['B-PER', 'I-PER', 'B-LOC', 'I-LOC', 'B-ORG', 'I-ORG']\n",
            "precision: ['89.89%', '95.99%', '89.56%', '90.71%', '80.34%', '77.98%']\n",
            "recall:    ['90.82%', '91.06%', '79.98%', '67.51%', '56.97%', '58.42%']\n",
            "fscore:    ['90.35%', '93.46%', '84.5%', '77.41%', '66.67%', '66.8%']\n",
            "support:   [1057  526  869  434  165  291]\n",
            "total precision (weighted): 89.36%\n",
            "total recall (weighted): 80.52%\n",
            "total fscore (weighted): 84.42%\n",
            "CPU times: user 1min 19s, sys: 16 ms, total: 1min 19s\n",
            "Wall time: 1min 19s\n"
          ],
          "name": "stdout"
        }
      ]
    },
    {
      "cell_type": "code",
      "metadata": {
        "id": "FVRLet9EMejH",
        "colab_type": "code",
        "colab": {
          "base_uri": "https://localhost:8080/",
          "height": 202
        },
        "outputId": "3a5a4b9a-45b1-4339-d24b-c1e1308d44ca"
      },
      "source": [
        "test_model.show_most_informative_features()"
      ],
      "execution_count": 21,
      "outputs": [
        {
          "output_type": "stream",
          "text": [
            "  -9.241 s-1=='O' and label is 'I-PER'\n",
            "  -8.704 s-1=='O' and label is 'I-ORG'\n",
            "   8.527 w-1=='Ẩn' and label is 'B-PER'\n",
            "  -7.773 s-1=='B-PER' and label is 'B-PER'\n",
            "  -7.646 w0=='VN' and label is 'O'\n",
            "  -7.542 s-1=='O' and label is 'I-LOC'\n",
            "   6.913 w0=='tổ_hợp' and label is 'B-ORG'\n",
            "   6.855 w-1=='Nhà' and label is 'I-ORG'\n",
            "   6.701 w-1=='văn_nghệ' and label is 'B-ORG'\n",
            "   6.255 w0=='út' and label is 'B-PER'\n"
          ],
          "name": "stdout"
        }
      ]
    }
  ]
}